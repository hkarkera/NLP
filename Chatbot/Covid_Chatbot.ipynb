{
 "cells": [
  {
   "cell_type": "code",
   "execution_count": 23,
   "metadata": {},
   "outputs": [],
   "source": [
    "import numpy as np\n",
    "import pandas as pd\n",
    "import nltk\n",
    "import random \n",
    "import re \n",
    "import string\n",
    "import warnings\n",
    "warnings.filterwarnings('ignore')"
   ]
  },
  {
   "cell_type": "code",
   "execution_count": 24,
   "metadata": {},
   "outputs": [],
   "source": [
    "# Importing the dataset\n",
    "data = open('covid.txt','r',errors = 'ignore')\n",
    "raw = data.read()\n",
    "raw = raw.lower()\n",
    "# List\n",
    "sent_tokens = nltk.sent_tokenize(raw)\n",
    "word_tokens = nltk.word_tokenize(raw)\n"
   ]
  },
  {
   "cell_type": "code",
   "execution_count": 25,
   "metadata": {},
   "outputs": [],
   "source": [
    "# Preprocessing\n",
    "lemmatizer  = nltk.stem.WordNetLemmatizer()\n",
    "def LemTokens(tokens):\n",
    "    return [lemmatizer.lemmatize(token) for token in tokens]\n",
    "remove_punc = dict((ord(punct),None) for punct in string.punctuation)\n",
    "def LemNormalize(text):\n",
    "    return LemTokens(nltk.word_tokenize(text.lower().translate(remove_punc)))"
   ]
  },
  {
   "cell_type": "code",
   "execution_count": 26,
   "metadata": {},
   "outputs": [],
   "source": [
    "# Greetings\n",
    "Greeting_Inputs = (\"hello\",\"hi\",\"greetings\",\"wassup\",\"hey\",\"yo\",\"sup\")\n",
    "Greeting_Response = [\"hey\",\"hi\",\"hello\",\"hi there!\"]\n",
    "def greet(sentence):\n",
    "    for word in sentence.split():\n",
    "        if word.lower() in Greeting_Inputs:\n",
    "            return random.choice(Greeting_Response)"
   ]
  },
  {
   "cell_type": "code",
   "execution_count": 27,
   "metadata": {},
   "outputs": [],
   "source": [
    "# Vectorizer\n",
    "from sklearn.feature_extraction.text import TfidfVectorizer\n",
    "from sklearn.metrics.pairwise import cosine_similarity\n",
    "\n",
    "def response(user_resp):\n",
    "    chatbot_response=''\n",
    "    sent_tokens.append(user_response)\n",
    "    TfidfVec = TfidfVectorizer(tokenizer=LemNormalize,stop_words='english')\n",
    "    tfidf = TfidfVec.fit_transform(sent_tokens)\n",
    "    vals = cosine_similarity(tfidf[-1],tfidf)\n",
    "    idx = vals.argsort()[0][-2]\n",
    "    flat = vals.flatten()\n",
    "    flat.sort()\n",
    "    req_tfidf = flat[-2]\n",
    "    if(req_tfidf==0):\n",
    "        chatbot_response=chatbot_response + \"I'm sorry! I don't understand!\"\n",
    "        return chatbot_response\n",
    "    else:\n",
    "        chatbot_response = chatbot_response+sent_tokens[idx]\n",
    "        return chatbot_response\n"
   ]
  },
  {
   "cell_type": "code",
   "execution_count": 28,
   "metadata": {},
   "outputs": [
    {
     "name": "stdout",
     "output_type": "stream",
     "text": [
      "Chatbot: My name is chatbot\n",
      "hey\n",
      "Chatbot: hi there!\n",
      "incubation period \n",
      "Chatbot: the incubation period (amount of time between exposure to the virus and development of symptoms of covid-19) ranges from 1-14 days.\n",
      "symptoms\n",
      "Chatbot: the most common symptoms of covid-19 are fever, dry cough, fatigue and myalgia (achy muscles).\n",
      "prevent spread\n",
      "Chatbot: the best way to prevent acquiring this virus is avoid contact with someone who has it.\n",
      "what is social distancing\n",
      "Chatbot: thatâ€™s where social distancing and hand hygiene come into play.\n",
      "what to do if you test positive\n",
      "Chatbot: if you test positive for sars-cov-2, you should stay home to avoid infecting others, and you should contact your healthcare provider for advice.\n",
      "are cloth face covering effective>\n",
      "Chatbot: cloth face coverings prevent the person wearing it fromspreading respiratory droplets when talking, sneezing, or coughing\n",
      "bye\n",
      "Chatbot: Bye!\n"
     ]
    }
   ],
   "source": [
    "flag = True\n",
    "print(\"Chatbot: My name is chatbot\")\n",
    "while(flag == True):\n",
    "    user_response  = input()\n",
    "    user_response = user_response.lower()\n",
    "    if(user_response!='bye'):\n",
    "            if(user_response=='thanks' or user_response=='thank you'):\n",
    "                flag=False\n",
    "                print(\"Chatbot: You're welcome!\")\n",
    "            else:\n",
    "                if(greet(user_response)!=None):\n",
    "                    print(\"Chatbot: \"+greet(user_response))\n",
    "                else:\n",
    "                    print(\"Chatbot: \",end=\"\")\n",
    "                    print(response(user_response))\n",
    "                    sent_tokens.remove(user_response)\n",
    "    else:\n",
    "        flag=False\n",
    "        print(\"Chatbot: Bye!\")\n",
    "\n",
    "\n"
   ]
  },
  {
   "cell_type": "code",
   "execution_count": null,
   "metadata": {},
   "outputs": [],
   "source": []
  }
 ],
 "metadata": {
  "kernelspec": {
   "display_name": "Python 3",
   "language": "python",
   "name": "python3"
  },
  "language_info": {
   "codemirror_mode": {
    "name": "ipython",
    "version": 3
   },
   "file_extension": ".py",
   "mimetype": "text/x-python",
   "name": "python",
   "nbconvert_exporter": "python",
   "pygments_lexer": "ipython3",
   "version": "3.8.0"
  }
 },
 "nbformat": 4,
 "nbformat_minor": 4
}
